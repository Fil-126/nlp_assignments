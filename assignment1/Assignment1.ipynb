{
  "cells": [
    {
      "cell_type": "markdown",
      "metadata": {
        "id": "RKboZnAdgrRM"
      },
      "source": [
        "# [NLP] Assignment 1: Tokenization\n",
        "\n",
        "In this assignment, you need to tokenize the text of the Twitter(X) users posts(tweets). The assignment consists of two tasks. When you finish all the tasks, create a GitHub repository for this assignment (you can use this repo later for the other assignments) and submit this notebook in the repository. Leave `requirements.txt` file if your code requires additional installations. Submit the link to the repository in Moodle.\n",
        "\n",
        "The [data](https://drive.google.com/file/d/15x_wPAflvYQ2Xh38iNQGrqUIWLj5l5Nw/view?usp=share_link) contains 5 files whereby each contains 44 tweets. Each tweet is separated by a newline."
      ]
    },
    {
      "cell_type": "markdown",
      "metadata": {
        "id": "aLDjjAvemUP_"
      },
      "source": [
        "## Task 1. Tokenize some tweets manually (20 points)\n",
        "\n",
        "As a first task you need to tokenize first 15 tweets from `file2` by hand. This will allow you to understand the problem from a linguistic point of view. The guidelines for tweet tokenization are as follows:\n",
        "\n",
        "- Each smiley is a separate token\n",
        "- Each hashtag is an individual token. Each user reference is an individual token\n",
        "- If a word has spaces between them then it is converted to a single token\n",
        "- All punctuations are individual tokens. This includes double-quotes and single quotes also\n",
        "- A URL is a single token\n",
        "\n",
        "Example of output\n",
        "\n",
        "    Input tweet\n",
        "    @xfranman Old age has made N A T O!\n",
        "\n",
        "    Tokenized tweet (separated by comma)\n",
        "    @xfranman , Old , age , has , made , NATO , !"
      ]
    },
    {
      "cell_type": "markdown",
      "metadata": {
        "id": "7KKKwTidnzUw"
      },
      "source": [
        "\n",
        "    1. Input tweet\n",
        "    Camping in Maine for the weekend. Hey Dad, Mama Loves YOU: http://www.mamapalooza.com\n",
        "    1. Tokenized tweet\n",
        "    Camping , in , Maine , for , the , weekend , . , Hey , Dad , , , Mama , Loves , YOU , : , http://www.mamapalooza.com\n",
        "\n",
        "    2. Input tweet\n",
        "    Its american tradition bitch\n",
        "    2. Tokenized tweet\n",
        "    Its , american , tradition , bitch\n",
        "\n",
        "    3. Input tweet\n",
        "    @ThroughTheVoid They love it! The only pleasure they get in life. I actually do that. I'm sure I hear a tiny squeak... Then louder ones\n",
        "    3. Tokenized tweet\n",
        "    @ThroughTheVoid , They , love , it , ! , The , only , pleasure , they , get , in , life , . , I , actually , do , that , . , I , ' , m , sure , I , hear , a , tiny , squeak , . , . , . , Then , louder , ones\n",
        "\n",
        "    4. Input tweet\n",
        "    \" RT @latti: @AbsoHilare stop tweeting in church! Lol <--- \"\"I tweet because I'm happy, I tweet because I'm free\"\" LOL!\"\n",
        "    4. Tokenized tweet\n",
        "    \" , RT , @latti , : , @AbsoHilare , stop , tweeting , in , church , ! , Lol , < , - , - , - , \" , \" , I , tweet , because , I , ' , m , happy , , , I , tweet , because , I , ' , m , free , \" , \" , LOL , ! , \"\n",
        "\n",
        "    5. Input tweet\n",
        "    Samsung Mini S2 portable HDD graced with colors that perfectly match your tacky beach gear: Sammy's done it aga.. http://tinyurl.com/lb5p6m\n",
        "    5. Tokenized tweet\n",
        "    Samsung , Mini , S2 , portable , HDD , graced , with , colors , that , perfectly , match , your , tacky , beach , gear , : , Sammy , ' , s , done , it , aga , . , . , http://tinyurl.com/lb5p6m\n",
        "\n",
        "    6. Input tweet\n",
        "    @dialloc congrats on finding your way over. it may be slow going at first. hang in there. it's kinda cool when u get up to speed.\n",
        "    6. Tokenized tweet\n",
        "    @dialloc , congrats , on , finding , your , way , over , . , it , may , be , slow , going , at , first , . , hang , in , there , . , it , ' , s , kinda , cool , when , u , get , up , to , speed , .\n",
        "\n",
        "    7. Input tweet\n",
        "    iPhone activation delays continue, Apple offers $30 http://twt.gs/l3Ki\n",
        "    7. Tokenized tweet\n",
        "    iPhone , activation , delays , continue , , , Apple , offers , $ , 30 , http://twt.gs/l3Ki\n",
        "\n",
        "    8. Input tweet\n",
        "    RT @GoogleAtWork Gmail maximum attachment size now 25MB http://bit.ly/62mjw Nice!!!\n",
        "    8. Tokenized tweet\n",
        "    RT , @GoogleAtWork , Gmail , maximum , attachment , size , now , 25MB , http://bit.ly/62mjw , Nice , ! , ! , !\n",
        "    \n",
        "    9. Input tweet\n",
        "    RT @acfou The Ads Won Awards for Crispin; But Did Nothing for Client BurgerKing's Sales/Marketshare - Big Surprise - http://ping.fm/vw8TI\n",
        "    9. Tokenized tweet\n",
        "    RT , @acfou , The , Ads , Won , Awards , for , Crispin , ; , But , Did , Nothing , for , Client , BurgerKing , ' , s , Sales , / , Marketshare , - , Big , Surprise , - , http://ping.fm/vw8TI\n",
        "\n",
        "    10. Input tweet\n",
        "    Hey doll! Great I missed True Blood yday boo lol Rt @FrankBanuat78 @jhillstephens Hello Sunshine how are u today? :-)\n",
        "    10. Tokenized tweet\n",
        "    Hey , doll , ! , Great , I , missed , True , Blood , yday , boo , lol , Rt , @FrankBanuat78 , @jhillstephens , Hello , Sunshine , how , are , u , today , ? , :-)\n",
        "\n",
        "    11. Input tweet\n",
        "    Australian artist Pogo made these free songs primarily from sampled audio from Alice In Wonderland. http://www.last.fm/music/Pogo/Wonderland\n",
        "    11. Tokenized tweet\n",
        "    Australian , artist , Pogo , made , these , free , songs , primarily , from , sampled , audio , from , Alice , In , Wonderland , . , http://www.last.fm/music/Pogo/Wonderland\n",
        "\n",
        "    12. Input tweet\n",
        "    @mppritchard they wanted to sell all the preorders & then sell all of the ones they had in stock to those that just walked in. Can't do both\n",
        "    12. Tokenized tweet\n",
        "    @mppritchard , they , wanted , to , sell , all , the , preorders , & , then , sell , all , of , the , ones , they , had , in , stock , to , those , that , just , walked , in , . , Can , ' , t , do , both\n",
        "\n",
        "    13. Input tweet\n",
        "    Incoming: Frightened Rabbit, Sept. 22 (Tucson): If Fat Cat Records is going to send three great bands from Scot.. http://tinyurl.com/nz6xcv\n",
        "    13. Tokenized tweet\n",
        "    Incoming , : , Frightened , Rabbit , , , Sept , . , 22 , ( , Tucson , ) , : , If , Fat , Cat , Records , is , going , to , send , three , great , bands , from , Scot , . , . , http://tinyurl.com/nz6xcv\n",
        "\n",
        "    14. Input tweet\n",
        "    Hey @ginoandfran please greet philip! (GinoandFran live > http://ustre.am/2YyQ)\n",
        "    14. Tokenized tweet\n",
        "    Hey , @ginoandfran , please , greet , philip , ! , ( , GinoandFran , live , > , http://ustre.am/2YyQ , )\n",
        "\n",
        "    15. Input tweet\n",
        "    Ik weet niet wie er achter de T-Mobile iPhone Twitter zit maar ik vind het niet echt 'corporate' taalgebruik... Best vreemd eigenlijk\n",
        "    15. Tokenized tweet\n",
        "    Ik , weet , niet , wie , er , achter , de , T-Mobile , iPhone , Twitter , zit , maar , ik , vind , het , niet , echt , ' , corporate , ' , taalgebruik , . , . , . , Best , vreemd , eigenlijk\n"
      ]
    },
    {
      "cell_type": "markdown",
      "metadata": {
        "id": "-2J2AD2nmUhi"
      },
      "source": [
        "## Task 2. Implement [Byte-Pair Encoding(BPE)](https://arxiv.org/pdf/1508.07909.pdf) Tokenizer (80 points)\n",
        "\n",
        "### Task 2.1. Implementation (50 points)\n",
        "\n",
        "Implement the tokenizer as the BPETokenizer class:\n",
        "* Implement `train` method that learns merges and builds the vocabulary of the specified `vocab_size` (20 points).\n",
        "* Implement `tokenize` method that should tokenize the text according to the learnt merges (20 points).\n",
        "\n",
        "Your code should have docstrings and comments (10 points)."
      ]
    },
    {
      "cell_type": "code",
      "execution_count": 122,
      "metadata": {},
      "outputs": [
        {
          "data": {
            "application/vnd.jupyter.widget-view+json": {
              "model_id": "de59016491184c84a6024f2b6b66b80f",
              "version_major": 2,
              "version_minor": 0
            },
            "text/plain": [
              "  0%|          | 0/9 [00:00<?, ?it/s]"
            ]
          },
          "metadata": {},
          "output_type": "display_data"
        },
        {
          "data": {
            "text/plain": [
              "['lor', 'em</w>', 'ip', 'su', 'm</w>']"
            ]
          },
          "execution_count": 122,
          "metadata": {},
          "output_type": "execute_result"
        }
      ],
      "source": [
        "from typing import List\n",
        "from tqdm.notebook import tqdm\n",
        "\n",
        "\n",
        "class BPETokenizer:\n",
        "\n",
        "    def __init__(self, vocab_size: int) -> None:\n",
        "        self.vocab_size = vocab_size\n",
        "        self.vocab = []\n",
        "\n",
        "\n",
        "    def train(self, corpus: List[str]) -> None:\n",
        "        # count all the words in the corpus\n",
        "        word_counts = {}\n",
        "        for s in corpus:\n",
        "            words = s.split()\n",
        "            for word in words:\n",
        "                word = list(word)\n",
        "                # add </w> token to symbolize the end of the word\n",
        "                word.append(\"</w>\")\n",
        "                if str(word) not in word_counts:\n",
        "                    word_counts[str(word)] = 0\n",
        "                word_counts[str(word)] += 1\n",
        "\n",
        "        # make the initial vocab\n",
        "        for word in word_counts:\n",
        "            for token in eval(word):\n",
        "                if token not in self.vocab:\n",
        "                    self.vocab.append(token)\n",
        "\n",
        "        self.vocab_size = max(self.vocab_size, len(self.vocab))\n",
        "\n",
        "        # calculate frequencies of pairs of tokens\n",
        "        pairs = {}\n",
        "        for word in word_counts:\n",
        "            tokens = eval(word)\n",
        "            for token1, token2 in zip(tokens[:-1], tokens[1:]):\n",
        "                if (token1, token2) not in pairs:\n",
        "                    pairs[(token1, token2)] = 0\n",
        "                pairs[(token1, token2)] += word_counts[word]\n",
        "\n",
        "\n",
        "        # main loop\n",
        "        bar = tqdm(range(self.vocab_size - len(self.vocab)))\n",
        "        bar.set_description_str(f\"Training (vocab size: {self.vocab_size})\")\n",
        "        for _ in bar:\n",
        "            # find the most frequent pair of tokens to merge\n",
        "            best_pair = max(pairs, key = lambda x: pairs[x])\n",
        "            new_token = \"\".join(best_pair)\n",
        "            self.vocab.append(new_token)\n",
        "            pairs.pop(best_pair)\n",
        "\n",
        "\n",
        "            # update each word and pair counts\n",
        "            for word in list(word_counts.keys()):\n",
        "                tokens = eval(word)\n",
        "                new_tokens = []\n",
        "                i = 1\n",
        "                while i < len(tokens):\n",
        "                    if tokens[i - 1] == best_pair[0] and tokens[i] == best_pair[1]:\n",
        "                        if len(new_tokens) > 0:\n",
        "                            prev_token = new_tokens[-1]\n",
        "\n",
        "                            pairs[(prev_token, best_pair[0])] -= word_counts[word]\n",
        "                            \n",
        "                            if (prev_token, new_token) not in pairs:\n",
        "                                pairs[(prev_token, new_token)] = 0\n",
        "                            pairs[(prev_token, new_token)] += word_counts[word]\n",
        "                        \n",
        "                        if i + 1 < len(tokens):\n",
        "                            next_token = tokens[i + 1]\n",
        "\n",
        "                            if best_pair[0] != best_pair[1] != next_token:        \n",
        "                                pairs[(best_pair[1], next_token)] -= word_counts[word]\n",
        "\n",
        "                            if (new_token, next_token) not in pairs:\n",
        "                                pairs[(new_token, next_token)] = 0\n",
        "                            pairs[(new_token, next_token)] += word_counts[word]\n",
        "                        \n",
        "                        new_tokens.append(new_token)\n",
        "                        i += 2\n",
        "                    else:\n",
        "                        new_tokens.append(tokens[i - 1])\n",
        "                        i += 1\n",
        "                \n",
        "                if i == len(tokens):\n",
        "                    new_tokens.append(tokens[-1])\n",
        "                \n",
        "                new_word = str(new_tokens)\n",
        "                word_counts[new_word] = word_counts.pop(word)\n",
        "\n",
        "\n",
        "    def tokenize(self, text: str) -> List[str]:\n",
        "        words = text.split()\n",
        "        tokens = []\n",
        "\n",
        "        for word in words:\n",
        "            word += \"</w>\"\n",
        "            while len(word) > 0:\n",
        "                token = max(self.vocab, key=lambda x: len(x) if word.startswith(x) else 0)\n",
        "                tokens.append(token)\n",
        "                word = word.removeprefix(token)\n",
        "        \n",
        "        return tokens\n",
        "    \n",
        "\n",
        "corpus = [\"lorem ipsum\", \"lorem ipsum dolor sit amet\", \"consectetur adipiscing elit sed do\"]\n",
        "tokenizer = BPETokenizer(25)\n",
        "tokenizer.train(corpus)\n",
        "tokenizer.tokenize(\"lorem ipsum\")"
      ]
    },
    {
      "cell_type": "markdown",
      "metadata": {},
      "source": [
        "### Task 2.2. Analysis on Tweets Dataset (10 points)\n",
        "\n",
        "Train the BPE tokenizer on the tweets dataset. Try to tokenize the tweets with the tokenizer of different `vocab_size`. For example, train the BPE tokenizer with `vocab_size` of [base_vocab_size, 250, 500, 750, 1000]. Plot the dependency of the average length of the tokenized tweet by `vocab_size` to analyze how `vocab_size` affects the length of the tokenized tweet on average. Tell what `vocab_size` is preferrable and why."
      ]
    },
    {
      "cell_type": "code",
      "execution_count": 105,
      "metadata": {},
      "outputs": [
        {
          "data": {
            "application/vnd.jupyter.widget-view+json": {
              "model_id": "cb054da012de443fb226905a0138b10f",
              "version_major": 2,
              "version_minor": 0
            },
            "text/plain": [
              "0it [00:00, ?it/s]"
            ]
          },
          "metadata": {},
          "output_type": "display_data"
        },
        {
          "data": {
            "application/vnd.jupyter.widget-view+json": {
              "model_id": "2cb23c34b2874b2ba5e6baae500c5602",
              "version_major": 2,
              "version_minor": 0
            },
            "text/plain": [
              "  0%|          | 0/83 [00:00<?, ?it/s]"
            ]
          },
          "metadata": {},
          "output_type": "display_data"
        },
        {
          "data": {
            "application/vnd.jupyter.widget-view+json": {
              "model_id": "6a17d915b6cf420b910f8b41fb0a2384",
              "version_major": 2,
              "version_minor": 0
            },
            "text/plain": [
              "  0%|          | 0/333 [00:00<?, ?it/s]"
            ]
          },
          "metadata": {},
          "output_type": "display_data"
        },
        {
          "data": {
            "application/vnd.jupyter.widget-view+json": {
              "model_id": "d23baa22f8f54a8cb777d1f381ad5200",
              "version_major": 2,
              "version_minor": 0
            },
            "text/plain": [
              "  0%|          | 0/583 [00:00<?, ?it/s]"
            ]
          },
          "metadata": {},
          "output_type": "display_data"
        },
        {
          "data": {
            "application/vnd.jupyter.widget-view+json": {
              "model_id": "ac0fc4af912b4ea8ba783f21f8f29eda",
              "version_major": 2,
              "version_minor": 0
            },
            "text/plain": [
              "  0%|          | 0/833 [00:00<?, ?it/s]"
            ]
          },
          "metadata": {},
          "output_type": "display_data"
        }
      ],
      "source": [
        "corpus = []\n",
        "for i in range(1, 6):\n",
        "    with open(f\"data/file{i}\", \"r\") as f:\n",
        "        corpus.extend(f.readlines())\n",
        "\n",
        "lengths = []\n",
        "base_vocab_size = 0\n",
        "\n",
        "for vocab_size in [0, 250, 500, 750, 1000]:\n",
        "    tokenizer = BPETokenizer(vocab_size)\n",
        "    tokenizer.train(corpus)\n",
        "    \n",
        "    if vocab_size == 0:\n",
        "        base_vocab_size = tokenizer.vocab_size\n",
        "\n",
        "    tokenized = list(map(lambda x: tokenizer.tokenize(x), corpus))\n",
        "    avg_length = sum(map(len, tokenized)) / len(tokenized)\n",
        "    lengths.append(avg_length)\n"
      ]
    },
    {
      "cell_type": "code",
      "execution_count": 107,
      "metadata": {},
      "outputs": [
        {
          "data": {
            "image/png": "[encoded data removed]",
            "text/plain": [
              "<Figure size 640x480 with 1 Axes>"
            ]
          },
          "metadata": {},
          "output_type": "display_data"
        }
      ],
      "source": [
        "import matplotlib.pyplot as plt\n",
        "\n",
        "plt.plot([base_vocab_size, 250, 500, 750, 1000], lengths)\n",
        "plt.xlabel(\"vocab size\")\n",
        "plt.ylabel(\"average length of tokenized tweet\")\n",
        "plt.show()"
      ]
    },
    {
      "cell_type": "markdown",
      "metadata": {},
      "source": [
        "It is hard to tell which vocab size is better. In general, larger vocab size results in better accuracy. On the other hand, it is slower to work with large vocabs."
      ]
    },
    {
      "cell_type": "markdown",
      "metadata": {},
      "source": [
        "### Task 2.3. Analysis on Dataset of Different Language (10 points)\n",
        "\n",
        "Find a small dataset of texts in a language other than English. The dataset size should be not greater than several megabytes.\n",
        "\n",
        "Train the BPE tokenizer on the dataset that you found. Try to tokenize the sentences from this dataset with the tokenizer of different `vocab_size`. Plot the dependency of the average length of the tokenized sentence by `vocab_size` to analyze how `vocab_size` affects the length of the tokenized sentence on average.\n",
        "\n",
        "Tell how how the average length of the tokenized sentence differs from the average length of the tokenized tweet. Explain why. "
      ]
    },
    {
      "cell_type": "code",
      "execution_count": 117,
      "metadata": {},
      "outputs": [
        {
          "name": "stdout",
          "output_type": "stream",
          "text": [
            "462\n"
          ]
        }
      ],
      "source": [
        "corpus = []\n",
        "with open(\"data/otcy-i-deti.txt\", \"r\") as f:\n",
        "    for i in range(1000):\n",
        "        line = f.readline()\n",
        "        if line.strip() != \"\":\n",
        "            corpus.append(line.strip())\n",
        "        \n",
        "print(len(corpus))"
      ]
    },
    {
      "cell_type": "code",
      "execution_count": 118,
      "metadata": {},
      "outputs": [
        {
          "data": {
            "application/vnd.jupyter.widget-view+json": {
              "model_id": "ed31d6456aec45009a7898d114698d31",
              "version_major": 2,
              "version_minor": 0
            },
            "text/plain": [
              "0it [00:00, ?it/s]"
            ]
          },
          "metadata": {},
          "output_type": "display_data"
        },
        {
          "data": {
            "application/vnd.jupyter.widget-view+json": {
              "model_id": "e13dbdb6ed594e4d8468bfe1f147a6dd",
              "version_major": 2,
              "version_minor": 0
            },
            "text/plain": [
              "  0%|          | 0/127 [00:00<?, ?it/s]"
            ]
          },
          "metadata": {},
          "output_type": "display_data"
        },
        {
          "data": {
            "application/vnd.jupyter.widget-view+json": {
              "model_id": "2cae3b7f26b6487b920fc17b5210c5e2",
              "version_major": 2,
              "version_minor": 0
            },
            "text/plain": [
              "  0%|          | 0/377 [00:00<?, ?it/s]"
            ]
          },
          "metadata": {},
          "output_type": "display_data"
        },
        {
          "data": {
            "application/vnd.jupyter.widget-view+json": {
              "model_id": "fadf1fad3f094bbc88762509d19391cc",
              "version_major": 2,
              "version_minor": 0
            },
            "text/plain": [
              "  0%|          | 0/627 [00:00<?, ?it/s]"
            ]
          },
          "metadata": {},
          "output_type": "display_data"
        },
        {
          "data": {
            "application/vnd.jupyter.widget-view+json": {
              "model_id": "730155ad0b964beaa63a97745ff96a9a",
              "version_major": 2,
              "version_minor": 0
            },
            "text/plain": [
              "  0%|          | 0/877 [00:00<?, ?it/s]"
            ]
          },
          "metadata": {},
          "output_type": "display_data"
        }
      ],
      "source": [
        "lengths = []\n",
        "base_vocab_size = 0\n",
        "\n",
        "for vocab_size in [0, 250, 500, 750, 1000]:\n",
        "    tokenizer = BPETokenizer(vocab_size)\n",
        "    tokenizer.train(corpus)\n",
        "    \n",
        "    if vocab_size == 0:\n",
        "        base_vocab_size = tokenizer.vocab_size\n",
        "\n",
        "    tokenized = list(map(lambda x: tokenizer.tokenize(x), corpus))\n",
        "    avg_length = sum(map(len, tokenized)) / len(tokenized)\n",
        "    lengths.append(avg_length)"
      ]
    },
    {
      "cell_type": "code",
      "execution_count": 119,
      "metadata": {},
      "outputs": [
        {
          "data": {
            "image/png": "[encoded data removed]",
            "text/plain": [
              "<Figure size 640x480 with 1 Axes>"
            ]
          },
          "metadata": {},
          "output_type": "display_data"
        }
      ],
      "source": [
        "plt.plot([base_vocab_size, 250, 500, 750, 1000], lengths)\n",
        "plt.xlabel(\"vocab size\")\n",
        "plt.ylabel(\"average length of tokenized sentence\")\n",
        "plt.show()"
      ]
    },
    {
      "cell_type": "markdown",
      "metadata": {},
      "source": [
        "The difference in average tokenized sentences lengths can be caused by several reasons. Most probably, it differs because the data was collected from different sources, and the average length of tweet differs from average length of sentence even before tokenization."
      ]
    }
  ],
  "metadata": {
    "colab": {
      "provenance": [],
      "toc_visible": true
    },
    "kernelspec": {
      "display_name": "Python 3",
      "name": "python3"
    },
    "language_info": {
      "codemirror_mode": {
        "name": "ipython",
        "version": 3
      },
      "file_extension": ".py",
      "mimetype": "text/x-python",
      "name": "python",
      "nbconvert_exporter": "python",
      "pygments_lexer": "ipython3",
      "version": "3.10.12"
    }
  },
  "nbformat": 4,
  "nbformat_minor": 0
}
