{
  "cells": [
    {
      "cell_type": "markdown",
      "metadata": {
        "id": "DIgM6C9HYUhm"
      },
      "source": [
        "# Context-sensitive Spelling Correction\n",
        "\n",
        "The goal of the assignment is to implement context-sensitive spelling correction. The input of the code will be a set of text lines and the output will be the same lines with spelling mistakes fixed.\n",
        "\n",
        "Submit the solution of the assignment to Moodle as a link to your GitHub repository containing this notebook.\n",
        "\n",
        "Useful links:\n",
        "- [Norvig's solution](https://norvig.com/spell-correct.html)\n",
        "- [Norvig's dataset](https://norvig.com/big.txt)\n",
        "- [Ngrams data](https://www.ngrams.info/download_coca.asp)\n",
        "\n",
        "Grading:\n",
        "- 60 points - Implement spelling correction\n",
        "- 20 points - Justify your decisions\n",
        "- 20 points - Evaluate on a test set\n"
      ]
    },
    {
      "cell_type": "markdown",
      "metadata": {
        "id": "x-vb8yFOGRDF"
      },
      "source": [
        "## Implement context-sensitive spelling correction\n",
        "\n",
        "Your task is to implement context-sensitive spelling corrector using N-gram language model. The idea is to compute conditional probabilities of possible correction options. For example, the phrase \"dking sport\" should be fixed as \"doing sport\" not \"dying sport\", while \"dking species\" -- as \"dying species\".\n",
        "\n",
        "The best way to start is to analyze [Norvig's solution](https://norvig.com/spell-correct.html) and [N-gram Language Models](https://web.stanford.edu/~jurafsky/slp3/3.pdf).\n",
        "\n",
        "You may also want to implement:\n",
        "- spell-checking for a concrete language - Russian, Tatar, etc. - any one you know, such that the solution accounts for language specifics,\n",
        "- some recent (or not very recent) paper on this topic,\n",
        "- solution which takes into account keyboard layout and associated misspellings,\n",
        "- efficiency improvement to make the solution faster,\n",
        "- any other idea of yours to improve the Norvig’s solution.\n",
        "\n",
        "IMPORTANT:  \n",
        "Your project should not be a mere code copy-paste from somewhere. You must provide:\n",
        "- Your implementation\n",
        "- Analysis of why the implemented approach is suggested\n",
        "- Improvements of the original approach that you have chosen to implement"
      ]
    },
    {
      "cell_type": "code",
      "execution_count": 1,
      "metadata": {
        "id": "MoQeEsZvHvvi"
      },
      "outputs": [],
      "source": [
        "import re\n",
        "from collections import Counter\n",
        "\n",
        "class NorvigSolution():\n",
        "    def __init__(self, file=\"big.txt\"): \n",
        "        self.WORDS = Counter(self.words(open(file).read()))\n",
        "        self.N = sum(self.WORDS.values())\n",
        "\n",
        "    def words(self, text): return re.findall(r'\\w+', text.lower())\n",
        "\n",
        "    def P(self, word): \n",
        "        \"Probability of `word`.\"\n",
        "        return self.WORDS[word] / self.N\n",
        "\n",
        "    def correction(self, word): \n",
        "        \"Most probable spelling correction for word.\"\n",
        "        return max(self.candidates(word), key=self.P)\n",
        "\n",
        "    def candidates(self, word): \n",
        "        \"Generate possible spelling corrections for word.\"\n",
        "        return (self.known([word]) or self.known(self.edits1(word)) or self.known(self.edits2(word)) or [word])\n",
        "\n",
        "    def known(self, words): \n",
        "        \"The subset of `words` that appear in the dictionary of WORDS.\"\n",
        "        return set(w for w in words if w in self.WORDS)\n",
        "\n",
        "    def edits1(self, word):\n",
        "        \"All edits that are one edit away from `word`.\"\n",
        "        letters    = 'abcdefghijklmnopqrstuvwxyz'\n",
        "        splits     = [(word[:i], word[i:])    for i in range(len(word) + 1)]\n",
        "        deletes    = [L + R[1:]               for L, R in splits if R]\n",
        "        transposes = [L + R[1] + R[0] + R[2:] for L, R in splits if len(R)>1]\n",
        "        replaces   = [L + c + R[1:]           for L, R in splits if R for c in letters]\n",
        "        inserts    = [L + c + R               for L, R in splits for c in letters]\n",
        "        return set(deletes + transposes + replaces + inserts)\n",
        "\n",
        "    def edits2(self, word): \n",
        "        \"All edits that are two edits away from `word`.\"\n",
        "        return (e2 for e1 in self.edits1(word) for e2 in self.edits1(e1))"
      ]
    },
    {
      "cell_type": "markdown",
      "metadata": {},
      "source": [
        "My solution is based on Norvig's solution, but I will use bigram model to count word probabilities. If there is no info on the previous word, then I will use Norvig's algorithm to compute word probability."
      ]
    },
    {
      "cell_type": "code",
      "execution_count": 2,
      "metadata": {},
      "outputs": [],
      "source": [
        "class MySolution(NorvigSolution):\n",
        "    def __init__(self, words_file=\"big.txt\", bigrams_file=\"bigrams.txt\"):\n",
        "        super().__init__(words_file)\n",
        "\n",
        "        self.BIGRAMS = self.bigrams(open(bigrams_file).readlines())\n",
        "        self.BIGRAMS_N = Counter()\n",
        "        for (first, second), count in self.BIGRAMS.items():\n",
        "            self.BIGRAMS_N[first] += count\n",
        "    \n",
        "    def bigrams(self, lines):\n",
        "        return Counter({(first, second) : int(count) for line in lines for count, first, second in [line.split()]})\n",
        "    \n",
        "    def P(self, word, prev_word=None):\n",
        "        \"Probability of `word` given `prev_word`.\"\n",
        "        if prev_word is None or prev_word not in self.BIGRAMS_N:\n",
        "            return super().P(word)\n",
        "        return self.BIGRAMS[(prev_word, word)] / self.BIGRAMS_N[prev_word]\n",
        "    \n",
        "    def correction(self, word, prev_word=None): \n",
        "        \"Most probable spelling correction for word.\"\n",
        "        return max(self.candidates(word), key=lambda x: self.P(x, prev_word))"
      ]
    },
    {
      "cell_type": "markdown",
      "metadata": {
        "id": "oML-5sJwGRLE"
      },
      "source": [
        "## Justify your decisions\n",
        "\n",
        "Write down justificaitons for your implementation choices. For example, these choices could be:\n",
        "- Which ngram dataset to use\n",
        "- Which weights to assign for edit1, edit2 or absent words probabilities\n",
        "- Beam search parameters\n",
        "- etc."
      ]
    },
    {
      "cell_type": "markdown",
      "metadata": {
        "id": "6Xb_twOmVsC6"
      },
      "source": [
        "The provided bigram dataset was used because of simplicity in implementation. The assumption that the less edits the more probable the correction is not that bad, so I have not modfied the Error Model."
      ]
    },
    {
      "cell_type": "markdown",
      "metadata": {
        "id": "46rk65S4GRSe"
      },
      "source": [
        "## Evaluate on a test set\n",
        "\n",
        "Your task is to generate a test set and evaluate your work. You may vary the noise probability to generate different datasets with varying compexity. Compare your solution to the Norvig's corrector, and report the accuracies."
      ]
    },
    {
      "cell_type": "markdown",
      "metadata": {},
      "source": [
        "Dataset for evaluation was taken from https://www.dcs.bbk.ac.uk/~roger/corpora.html ([holbrook-tagged.dat](https://www.dcs.bbk.ac.uk/~roger/holbrook-tagged.dat)). With this dataset we can extract the misspelled word with its previous word for bigram model."
      ]
    },
    {
      "cell_type": "code",
      "execution_count": 3,
      "metadata": {
        "id": "OwZWaX9VVs7B"
      },
      "outputs": [
        {
          "data": {
            "text/plain": [
              "[('and', 'sister', 'siter'),\n",
              " ('My', 'sister', 'siter'),\n",
              " ('', 'goes', 'go'),\n",
              " ('out', 'sometimes', 'some times'),\n",
              " ('out', 'sometimes', 'some times')]"
            ]
          },
          "execution_count": 3,
          "metadata": {},
          "output_type": "execute_result"
        }
      ],
      "source": [
        "test_data = re.findall(r\"(\\w*?) <ERR targ=(.*?)> (.*?) <\\/ERR>\", open(\"holbrook-tagged.txt\").read())\n",
        "# test_data is a list of tuples (prev_word, correct_word, misspelled_word)\n",
        "test_data[:5]"
      ]
    },
    {
      "cell_type": "markdown",
      "metadata": {},
      "source": [
        "### Norvig's Solution test"
      ]
    },
    {
      "cell_type": "code",
      "execution_count": 4,
      "metadata": {},
      "outputs": [
        {
          "name": "stdout",
          "output_type": "stream",
          "text": [
            "524/2534 (21%) words are corrected correctly (pleonasm, huh)\n"
          ]
        }
      ],
      "source": [
        "norvig = NorvigSolution()\n",
        "correct = 0\n",
        "for (prev_word, correct_word, misspelled_word) in test_data:\n",
        "    correction = norvig.correction(misspelled_word)\n",
        "    if correction == correct_word:\n",
        "        correct += 1\n",
        "\n",
        "print(f\"{correct}/{len(test_data)} ({round(correct / len(test_data) * 100)}%) words are corrected correctly (pleonasm, huh)\")"
      ]
    },
    {
      "cell_type": "markdown",
      "metadata": {},
      "source": [
        "### My Solution test"
      ]
    },
    {
      "cell_type": "code",
      "execution_count": 5,
      "metadata": {},
      "outputs": [
        {
          "name": "stdout",
          "output_type": "stream",
          "text": [
            "608/2534 (24%) words are corrected correctly (pleonasm, huh)\n"
          ]
        }
      ],
      "source": [
        "my = MySolution()\n",
        "correct = 0\n",
        "for (prev_word, correct_word, misspelled_word) in test_data:\n",
        "    correction = my.correction(misspelled_word, prev_word if len(prev_word) > 0 else None)\n",
        "    if correction == correct_word:\n",
        "        correct += 1\n",
        "\n",
        "print(f\"{correct}/{len(test_data)} ({round(correct / len(test_data) * 100)}%) words are corrected correctly (pleonasm, huh)\")"
      ]
    },
    {
      "cell_type": "markdown",
      "metadata": {},
      "source": [
        "Since my solution utilizes some of the context (the previous word), it has shown better accuracy"
      ]
    }
  ],
  "metadata": {
    "colab": {
      "provenance": []
    },
    "kernelspec": {
      "display_name": "Python 3",
      "name": "python3"
    },
    "language_info": {
      "codemirror_mode": {
        "name": "ipython",
        "version": 3
      },
      "file_extension": ".py",
      "mimetype": "text/x-python",
      "name": "python",
      "nbconvert_exporter": "python",
      "pygments_lexer": "ipython3",
      "version": "3.10.12"
    }
  },
  "nbformat": 4,
  "nbformat_minor": 0
}
